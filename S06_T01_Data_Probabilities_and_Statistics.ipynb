{
 "cells": [
  {
   "cell_type": "markdown",
   "id": "44d586ed",
   "metadata": {},
   "source": [
    "<div class=\"alert alert-block alert-info\"><font size=\"6\"><b>Sprint 6 Task 1 (S06_T01)</b></font><h6 align=\"right\"><u>Author: Alberto Achaval</u></h6></div>"
   ]
  },
  {
   "cell_type": "markdown",
   "id": "a6177795",
   "metadata": {},
   "source": [
    "## <SPAN style=color:#1F618D>Level 1</SPAN>"
   ]
  },
  {
   "cell_type": "markdown",
   "id": "fb3332d9",
   "metadata": {},
   "source": [
    "### <SPAN style=color:#1F618D>Practice 1</SPAN>"
   ]
  },
  {
   "cell_type": "markdown",
   "id": "d9727cb5",
   "metadata": {},
   "source": [
    "<SPAN style=color:#1F618D>Grab a sports theme dataset you like and select an attribute from the dataset. Calculate the mode, median, standard deviation, and arithmetic mean.</SPAN>"
   ]
  },
  {
   "cell_type": "markdown",
   "id": "1d465aa2",
   "metadata": {},
   "source": [
    "To solve this practice we start by **importing** all the required libraries:"
   ]
  },
  {
   "cell_type": "code",
   "execution_count": null,
   "id": "e7f27139",
   "metadata": {},
   "outputs": [],
   "source": [
    "import pandas as pd\n",
    "import numpy as np\n",
    "import matplotlib.pyplot as plt\n",
    "import seaborn as sns\n",
    "from scipy import stats\n",
    "import statistics"
   ]
  },
  {
   "cell_type": "markdown",
   "id": "acd9101d",
   "metadata": {},
   "source": [
    "For this practice, I'm going to use data from the ATP (Association of Professional Tennis) matches from the year 2018, the same one I used for Sprint 5.   \n",
    "In this data set, the winner and loser are coded with an ID. We have another dataset that references this ID with player information.\n",
    "\n",
    "For the matches dataset we have the following column reference:\n",
    "* ace = absolute number of aces  \n",
    "* df = number of double faults  \n",
    "* svpt = total serve points  \n",
    "* 1stin = 1st serve in  \n",
    "* 1stwon = points won on 1st serve  \n",
    "* 2ndwon = points won on 2nd serve  \n",
    "* SvGms = serve games  \n",
    "* bpSaved = break point saved  \n",
    "* bpFaced = break point faced  \n",
    "\n",
    "source: https://www.kaggle.com/datasets/pablodroca/atp-tennis-matches-20002019?select=atp_matches_2019.csv"
   ]
  },
  {
   "cell_type": "code",
   "execution_count": null,
   "id": "43947688",
   "metadata": {},
   "outputs": [],
   "source": [
    "ranking = pd.read_csv('atp_matches_2018.csv') # matches 2018\n",
    "players = pd.read_csv('atp_players.csv') # players information"
   ]
  },
  {
   "cell_type": "code",
   "execution_count": null,
   "id": "4373bf84",
   "metadata": {},
   "outputs": [],
   "source": [
    "pd.set_option('display.max_columns', 50)\n",
    "ranking.sample(5)"
   ]
  },
  {
   "cell_type": "code",
   "execution_count": null,
   "id": "a7e9ce8f",
   "metadata": {},
   "outputs": [],
   "source": [
    "ranking.info()"
   ]
  },
  {
   "cell_type": "code",
   "execution_count": null,
   "id": "62388b65",
   "metadata": {},
   "outputs": [],
   "source": [
    "players.head()"
   ]
  },
  {
   "cell_type": "code",
   "execution_count": null,
   "id": "7101d0a1",
   "metadata": {},
   "outputs": [],
   "source": [
    "players.info()"
   ]
  },
  {
   "cell_type": "markdown",
   "id": "31038027",
   "metadata": {},
   "source": [
    "I want to merge both dataframes in order to replace in **matches** the **winner_id** and **loser_id** with actual name and contry from **players**."
   ]
  },
  {
   "cell_type": "code",
   "execution_count": null,
   "id": "e4bd08d3",
   "metadata": {},
   "outputs": [],
   "source": [
    "# new column for players with joined name\n",
    "\n",
    "players['player'] =  players ['name_list'] + ', ' + players['name_first']"
   ]
  },
  {
   "cell_type": "code",
   "execution_count": null,
   "id": "01ec4f63",
   "metadata": {},
   "outputs": [],
   "source": [
    "# merge dataframes, first winner and then loser\n",
    "\n",
    "winners = pd.merge(ranking, players.loc[:, ['player_id', 'country', 'player']], \n",
    "                 left_on=['winner_id'], right_on=['player_id']).drop(columns = ['winner_id', 'player_id'])\n",
    "\n",
    "atp_2018 = pd.merge(winners, players.loc[:, ['player_id', 'country', 'player']], how= 'inner', \n",
    "                  left_on=['loser_id'], right_on=['player_id']).drop(columns = ['loser_id', 'player_id'])"
   ]
  },
  {
   "cell_type": "code",
   "execution_count": null,
   "id": "fde7d29b",
   "metadata": {},
   "outputs": [],
   "source": [
    "# reorder and rename columns\n",
    "\n",
    "atp_2018 = atp_2018[['tourney_id', 'tourney_name', 'tourney_date', 'surface', 'player_x', 'country_x',  'player_y', \n",
    "                 'country_y', 'score', 'best_of', 'round', 'minutes', 'w_ace', 'w_df', 'w_svpt', 'w_1stIn', \n",
    "                 'w_1stWon', 'w_2ndWon', 'w_SvGms', 'w_bpSaved', 'w_bpFaced', 'l_ace', 'l_df', 'l_svpt', 'l_1stIn', \n",
    "                 'l_1stWon', 'l_2ndWon', 'l_SvGms', 'l_bpSaved', 'l_bpFaced', 'winner_rank', 'winner_rank_points', \n",
    "                 'loser_rank', 'loser_rank_points']]\n",
    "\n",
    "atp_2018.rename(columns={'player_x': 'winner', 'country_x': 'country_winner', \n",
    "                       'player_y': 'loser', 'country_y': 'country_loser' }, inplace=True)"
   ]
  },
  {
   "cell_type": "code",
   "execution_count": null,
   "id": "13a550c7",
   "metadata": {},
   "outputs": [],
   "source": [
    "atp_2018.head()"
   ]
  },
  {
   "cell_type": "code",
   "execution_count": null,
   "id": "acb68e81",
   "metadata": {},
   "outputs": [],
   "source": [
    "atp_2018.info()"
   ]
  },
  {
   "cell_type": "markdown",
   "id": "1408e3cb",
   "metadata": {},
   "source": [
    "Now we have the dataframe as we wanted it!! Let's do the **mode, median, standard deviation, and arithmetic mean** for the number of aces per minute from the winner of the match, It will be new column **w_ace/hour** (since we have matches \"to the best of 3 games\" and \"to the best of 5 games\")."
   ]
  },
  {
   "cell_type": "markdown",
   "id": "a6f74e6a",
   "metadata": {},
   "source": [
    "Let's see about **NaN** values in **w_ace** and **minutes** columns:"
   ]
  },
  {
   "cell_type": "code",
   "execution_count": null,
   "id": "0114f668",
   "metadata": {
    "scrolled": false
   },
   "outputs": [],
   "source": [
    "atp_2018[atp_2018['w_ace'].isnull() | atp_2018['minutes'].isnull()]"
   ]
  },
  {
   "cell_type": "markdown",
   "id": "439f16ce",
   "metadata": {},
   "source": [
    "Half of these rows are W/O (walk over) matches in **score** column. This means matches that have not been played or finished early due to some problem.\n",
    "Some other rows are from matches in early stages of the tournament where no data has been collected. We could fill these NaN values with the mean from the rest, but early stages of a tournament indicates \"\"\"\"\"not so good players\"\"\"\"\" (among a lot of quotes) and it might not be a good idea to replace them with the average aces of winners in advenced stages of the tournament.\n",
    "Both these rows are missing **w_ace** and **minutes** data.\n",
    "\n",
    "Conclusion: I'll drop these rows and the remaing ones were only the **minutes** are missing I will fill them with mean. In this case only in matches \"to the best of three\" are missing the minutes."
   ]
  },
  {
   "cell_type": "code",
   "execution_count": null,
   "id": "29388153",
   "metadata": {},
   "outputs": [],
   "source": [
    "atp_2018.dropna(subset = ['w_ace'], how = 'any', inplace = True) # rows with NaN values in -w_ace- column"
   ]
  },
  {
   "cell_type": "code",
   "execution_count": null,
   "id": "1bc6e036",
   "metadata": {
    "scrolled": false
   },
   "outputs": [],
   "source": [
    "atp_2018[atp_2018['w_ace'].isnull() | atp_2018['minutes'].isnull()] # rows with NaN in -minutes- column"
   ]
  },
  {
   "cell_type": "code",
   "execution_count": null,
   "id": "8e20ea87",
   "metadata": {
    "scrolled": false
   },
   "outputs": [],
   "source": [
    "grouped_mins = atp_2018.groupby('best_of')['minutes'].mean() # excluding missing values by default\n",
    "grouped_mins"
   ]
  },
  {
   "cell_type": "code",
   "execution_count": null,
   "id": "293b35b8",
   "metadata": {},
   "outputs": [],
   "source": [
    "mean_bo3 = round(grouped_mins.loc[3,], 2) # minutes average for matches \"to the best of 3\"\n",
    "atp_2018['minutes'].fillna(value = mean_bo3, inplace=True)"
   ]
  },
  {
   "cell_type": "code",
   "execution_count": null,
   "id": "0455ea03",
   "metadata": {},
   "outputs": [],
   "source": [
    "atp_2018[atp_2018['w_ace'].isnull() | atp_2018['minutes'].isnull()]"
   ]
  },
  {
   "cell_type": "markdown",
   "id": "052505db",
   "metadata": {},
   "source": [
    "I will round the new **aces** column without decimals to have a useful **mode** value. Otherwise, the mode would be 0 since the variable **minutes** is a continuous with no repeatability. Let's see:"
   ]
  },
  {
   "cell_type": "code",
   "execution_count": null,
   "id": "17e00d5b",
   "metadata": {},
   "outputs": [],
   "source": [
    "atp_2018['aces'] = (atp_2018['w_ace'] * 60) / atp_2018['minutes'] # new column in hours!\n",
    "\n",
    "atp_2018.groupby('aces')['minutes'].count()"
   ]
  },
  {
   "cell_type": "code",
   "execution_count": null,
   "id": "a3077a3f",
   "metadata": {},
   "outputs": [],
   "source": [
    "atp_2018['aces'] = round(atp_2018['aces'], 0) # rounded"
   ]
  },
  {
   "cell_type": "code",
   "execution_count": null,
   "id": "a67e82b9",
   "metadata": {},
   "outputs": [],
   "source": [
    "atp_2018[atp_2018['aces'].isnull()] # check if there are any NaN values in new column (they shouldn't)"
   ]
  },
  {
   "cell_type": "code",
   "execution_count": null,
   "id": "319a9f9b",
   "metadata": {},
   "outputs": [],
   "source": [
    "atp_2018.sample(10)\n",
    "atp_2018.to_csv('atp_2018.csv', index = False) # save csv with data handling"
   ]
  },
  {
   "cell_type": "markdown",
   "id": "b5ddfd65",
   "metadata": {},
   "source": [
    "<u>**Mode:**</u> the value or values that occurs most often."
   ]
  },
  {
   "cell_type": "code",
   "execution_count": null,
   "id": "4c4b8935",
   "metadata": {},
   "outputs": [],
   "source": [
    "w_ace_mode = atp_2018.aces.mode()\n",
    "print(f\"Aces from winner mode is {w_ace_mode[0]} per hour of match\")"
   ]
  },
  {
   "cell_type": "code",
   "execution_count": null,
   "id": "a54bf58d",
   "metadata": {},
   "outputs": [],
   "source": [
    "atp_2018.groupby('aces')['minutes'].count()"
   ]
  },
  {
   "cell_type": "markdown",
   "id": "3f18dbcd",
   "metadata": {},
   "source": [
    "<u>**Median:**</u> the \"middle\" of a sorted list of numbers."
   ]
  },
  {
   "cell_type": "code",
   "execution_count": null,
   "id": "16ea6822",
   "metadata": {},
   "outputs": [],
   "source": [
    "w_ace_median = round(atp_2018.aces.median(), 2)\n",
    "print(f\"Aces from winner median is {w_ace_median} per hour of match\")"
   ]
  },
  {
   "cell_type": "markdown",
   "id": "5426e7a7",
   "metadata": {},
   "source": [
    "<u>**Standard Deviation:**</u> a measure of how spread out numbers are."
   ]
  },
  {
   "cell_type": "code",
   "execution_count": null,
   "id": "8e443d06",
   "metadata": {},
   "outputs": [],
   "source": [
    "w_ace_sd = round(atp_2018.aces.std(), 2)\n",
    "print(f'Aces from winner standard deviation is {w_ace_sd} per hour of match')"
   ]
  },
  {
   "cell_type": "markdown",
   "id": "84f17a65",
   "metadata": {},
   "source": [
    "<u>**Arithmetic Mean:**</u> the average of the numbers."
   ]
  },
  {
   "cell_type": "code",
   "execution_count": null,
   "id": "b09b91ea",
   "metadata": {},
   "outputs": [],
   "source": [
    "w_ace_mean = round(atp_2018.aces.mean(), 2)\n",
    "print(f'Aces from winner mean is {w_ace_mean} per hour of match')"
   ]
  },
  {
   "cell_type": "code",
   "execution_count": null,
   "id": "93b71def",
   "metadata": {},
   "outputs": [],
   "source": [
    "atp_2018.aces.describe()"
   ]
  },
  {
   "cell_type": "code",
   "execution_count": null,
   "id": "09b23334",
   "metadata": {},
   "outputs": [],
   "source": [
    "sns.set_style('darkgrid')\n",
    "fig, ax = plt.subplots(figsize = (8, 5))\n",
    "sns.histplot(data = atp_2018, x = 'aces')\n",
    "plt.show()"
   ]
  },
  {
   "cell_type": "markdown",
   "id": "4c89625d",
   "metadata": {},
   "source": [
    "### <SPAN style=color:#1F618D>Practice 2</SPAN>"
   ]
  },
  {
   "cell_type": "markdown",
   "id": "b2ad2da8",
   "metadata": {},
   "source": [
    "<SPAN style=color:#1F618D>Continuing with the sports topic data, select two attributes and calculate their correlation.</SPAN>"
   ]
  },
  {
   "cell_type": "markdown",
   "id": "85b72a4e",
   "metadata": {},
   "source": [
    "For this practice we are going to study if there is a linear correlation between **w_1stin** (if the match winner's first serve is in) and **w_1stwon** (if the match winner wins the points when his first serve is in)."
   ]
  },
  {
   "cell_type": "code",
   "execution_count": null,
   "id": "6d290745",
   "metadata": {},
   "outputs": [],
   "source": [
    "sns.set_style('darkgrid')\n",
    "fig, ax = plt.subplots(figsize = (8, 5))\n",
    "sns.regplot(data = atp_2018, x = 'w_1stIn', y = 'w_1stWon')\n",
    "plt.show()"
   ]
  },
  {
   "cell_type": "code",
   "execution_count": null,
   "id": "f945aa9f",
   "metadata": {},
   "outputs": [],
   "source": [
    "corr_1serve = round(atp_2018['w_1stIn'].corr(atp_2018.w_1stWon),2)\n",
    "print(f'Correlation is = {corr_1serve}')"
   ]
  },
  {
   "cell_type": "markdown",
   "id": "c33cc52d",
   "metadata": {},
   "source": [
    "We have a strong correlation between these two variables as expected."
   ]
  },
  {
   "cell_type": "markdown",
   "id": "e66587f9",
   "metadata": {},
   "source": [
    "## <SPAN style=color:#1F618D>Level 2</SPAN>"
   ]
  },
  {
   "cell_type": "markdown",
   "id": "15c31fc3",
   "metadata": {},
   "source": [
    "### <SPAN style=color:#1F618D>Practice 3</SPAN>"
   ]
  },
  {
   "cell_type": "markdown",
   "id": "c86aeab6",
   "metadata": {},
   "source": [
    "<SPAN style=color:#1F618D>Continue with the sports theme data and calculate the correlation of all the attributes with each other and represent them in a matrix with different colors of intensity.</SPAN>"
   ]
  },
  {
   "cell_type": "code",
   "execution_count": null,
   "id": "8b103b4c",
   "metadata": {},
   "outputs": [],
   "source": [
    "m_corr = atp_2018.corr()\n",
    "m_corr"
   ]
  },
  {
   "cell_type": "code",
   "execution_count": null,
   "id": "e2447749",
   "metadata": {
    "scrolled": false
   },
   "outputs": [],
   "source": [
    "mask = np.triu(np.ones_like(m_corr, dtype = bool)) # mask the upper triangle, easier to read\n",
    "f, ax = plt.subplots(figsize = (14, 16))\n",
    "\n",
    "sns.heatmap(m_corr, mask = mask, cmap = 'flare', annot = True, annot_kws = {\"size\": 10})\n",
    "\n",
    "for t in ax.texts:\n",
    "    if float(t.get_text()) >= 0.5:\n",
    "        t.set_text(t.get_text()) # if the value is greater than 0.5 then I set the text \n",
    "    elif float(t.get_text()) < -0.5: # if the value is smaller than -0.5 then I set the text \n",
    "        t.set_text(t.get_text())\n",
    "    else:\n",
    "        t.set_text(\"\") # if not it sets an empty text\n",
    "\n",
    "plt.title('Correlation Matrix', fontsize = 20)\n",
    "plt.show()"
   ]
  },
  {
   "cell_type": "markdown",
   "id": "34fe4c4e",
   "metadata": {},
   "source": [
    "## <SPAN style=color:#1F618D>Level 3</SPAN>"
   ]
  },
  {
   "cell_type": "markdown",
   "id": "9bb1b87f",
   "metadata": {},
   "source": [
    "### <SPAN style=color:#1F618D>Practice 4</SPAN>"
   ]
  },
  {
   "cell_type": "markdown",
   "id": "1d3c4b6e",
   "metadata": {},
   "source": [
    "<SPAN style=color:#1F618D>Continuing with the sports theme data, select an attribute and calculate the geometric mean and harmonic mean.</SPAN>"
   ]
  },
  {
   "attachments": {
    "image.png": {
     "image/png": "[encoded data removed]"
    }
   },
   "cell_type": "markdown",
   "id": "602b6337",
   "metadata": {},
   "source": [
    "<u>**Geometric Mean:**</u> is a special type of average where we multiply the numbers together and then take a square root (for two numbers), cube root (for three numbers) etc. Is useful when we want to compare things with very different properties.\n",
    "\n",
    "\n",
    "![image.png](attachment:image.png)"
   ]
  },
  {
   "cell_type": "code",
   "execution_count": null,
   "id": "10824642",
   "metadata": {},
   "outputs": [],
   "source": [
    "geom_mean = stats.gmean(atp_2018.loc[:,'w_1stWon'])\n",
    "print(f'The geometric mean is: {round(geom_mean,2)}')"
   ]
  },
  {
   "attachments": {
    "image.png": {
     "image/png": "[encoded data removed]"
    }
   },
   "cell_type": "markdown",
   "id": "0f11707c",
   "metadata": {},
   "source": [
    "<u>**Harmonic Mean:**</u> the reciprocal of the average of the reciprocals. The harmonic mean is little influenced by the existence of certain values much larger than the set of others, being instead sensitive to values much smaller than the set.\n",
    "\n",
    "![image.png](attachment:image.png)"
   ]
  },
  {
   "cell_type": "code",
   "execution_count": null,
   "id": "f44512b4",
   "metadata": {},
   "outputs": [],
   "source": [
    "harm_mean = statistics.harmonic_mean(atp_2018['w_1stWon'])\n",
    "print(f'The harmonic mean is: {round(harm_mean, 2)}')\n"
   ]
  }
 ],
 "metadata": {
  "kernelspec": {
   "display_name": "Python 3 (ipykernel)",
   "language": "python",
   "name": "python3"
  },
  "language_info": {
   "codemirror_mode": {
    "name": "ipython",
    "version": 3
   },
   "file_extension": ".py",
   "mimetype": "text/x-python",
   "name": "python",
   "nbconvert_exporter": "python",
   "pygments_lexer": "ipython3",
   "version": "3.9.7"
  }
 },
 "nbformat": 4,
 "nbformat_minor": 5
}
